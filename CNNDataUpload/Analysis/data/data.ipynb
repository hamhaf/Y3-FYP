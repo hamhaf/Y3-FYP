{
 "cells": [
  {
   "cell_type": "code",
   "execution_count": 3,
   "metadata": {},
   "outputs": [
    {
     "data": {
      "text/plain": [
       "((571, 433),\n",
       " (571, 1),\n",
       " (749, 260),\n",
       " (749, 1),\n",
       " (142, 433),\n",
       " (142, 1),\n",
       " (142, 260),\n",
       " (142, 1))"
      ]
     },
     "execution_count": 3,
     "metadata": {},
     "output_type": "execute_result"
    }
   ],
   "source": [
    "import pandas as pd\n",
    "\n",
    "#train\n",
    "old_train = pd.read_csv('noExclusion_train_data_OLD.csv')\n",
    "new_train = pd.read_csv('noExclusion_train_data.csv')\n",
    "old_label = pd.read_csv('noExclusion_train_label_OLD.csv')\n",
    "new_label = pd.read_csv('noExclusion_train_label.csv')\n",
    "\n",
    "#test\n",
    "old_test_x = pd.read_csv('noExclusion_test_data_OLD.csv')\n",
    "old_test_y = pd.read_csv('noExclusion_test_label_OLD.csv')\n",
    "new_test_x = pd.read_csv('noExclusion_test_data.csv')\n",
    "new_test_y = pd.read_csv('noExclusion_test_label.csv')\n",
    "\n",
    "\n",
    "old_train.shape,  old_label.shape, new_train.shape, new_label.shape, old_test_x.shape, old_test_y.shape, new_test_x.shape, new_test_y.shape\n",
    "\n"
   ]
  }
 ],
 "metadata": {
  "kernelspec": {
   "display_name": ".venv",
   "language": "python",
   "name": "python3"
  },
  "language_info": {
   "codemirror_mode": {
    "name": "ipython",
    "version": 3
   },
   "file_extension": ".py",
   "mimetype": "text/x-python",
   "name": "python",
   "nbconvert_exporter": "python",
   "pygments_lexer": "ipython3",
   "version": "3.9.2"
  },
  "orig_nbformat": 4
 },
 "nbformat": 4,
 "nbformat_minor": 2
}
